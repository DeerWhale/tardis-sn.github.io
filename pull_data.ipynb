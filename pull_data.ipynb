{
 "cells": [
  {
   "cell_type": "code",
   "execution_count": 20,
   "metadata": {},
   "outputs": [
    {
     "data": {
      "text/plain": [
       "'/Users/harshul/website clone/harshul/tardis/tardis-sn.github.io'"
      ]
     },
     "execution_count": 20,
     "metadata": {},
     "output_type": "execute_result"
    }
   ],
   "source": [
    "# Change the working directory to the desired location\n",
    "import os\n",
    "os.chdir(\"/Users/harshul/website clone/harshul/tardis/tardis-sn.github.io\")\n",
    "os.getcwd()"
   ]
  },
  {
   "cell_type": "code",
   "execution_count": 21,
   "metadata": {},
   "outputs": [],
   "source": [
    "import os\n",
    "import json\n",
    "dir1 = \"../temp/tardis-org-data/members\"\n",
    "dir2 = \"../temp/group-data/members\"\n",
    "dir3 = \"../temp/dti-group-data/members\""
   ]
  },
  {
   "cell_type": "code",
   "execution_count": 26,
   "metadata": {},
   "outputs": [
    {
     "name": "stdout",
     "output_type": "stream",
     "text": [
      "{'luke_shingles', 'alice_harpole', 'marc_williamson', 'christian_vogl', 'vytautas_jancauskas', 'yssa_neves', '.DS_Store', 'ezequiel_passaro', 'jack_o_brien', 'andreas_flors', 'jaladh_singhal', 'james_gillanders', 'stuart_sim', 'andrew_fullard', 'michael_zingale', 'wolfgang_kerzendorf'}\n"
     ]
    }
   ],
   "source": [
    "\n",
    "def combine_with_kg(dir1, dir2):\n",
    "    if not os.path.exists('combined_jsons'):\n",
    "        os.makedirs('combined_jsons')\n",
    "\n",
    "    common_members = set(os.listdir(dir1)) \n",
    "\n",
    "    for member_folder in common_members:\n",
    "        dir1_json_path = os.path.join(dir1, member_folder, 'jsons', 'basic_info.json')\n",
    "        dir2_json_path = os.path.join(dir2, member_folder, 'jsons', 'basic_info.json')\n",
    "\n",
    "\n",
    "        if os.path.exists(dir1_json_path):\n",
    "            with open(dir1_json_path, 'r') as f1:\n",
    "                data1 = json.load(f1)\n",
    "        if os.path.exists(dir2_json_path):\n",
    "            with open(dir2_json_path, 'r') as f2:\n",
    "                data2 = json.load(f2)\n",
    "        else:\n",
    "                data2 = {}\n",
    "\n",
    "        if data1.get('view_on', {}).get('tardis', True):\n",
    "            if data1.get('fetch_from', {}).get('kg', True):\n",
    "                combined_data = {**data2, **data1}  \n",
    "            else:\n",
    "                combined_data = data1\n",
    "\n",
    "            combined_json_path = os.path.join('data/members', f'{data1.get(\"id\", \"\")}.json')\n",
    "            with open(combined_json_path, 'w') as combined_file:\n",
    "                json.dump(combined_data, combined_file, indent=4)\n",
    "\n",
    "if __name__ == \"__main__\":\n",
    "\n",
    "    if not os.path.exists('combined_jsons'):\n",
    "        os.makedirs('combined_jsons')\n",
    "\n",
    "    combine_with_kg(dir1, dir2)\n"
   ]
  },
  {
   "cell_type": "code",
   "execution_count": null,
   "metadata": {},
   "outputs": [],
   "source": []
  }
 ],
 "metadata": {
  "kernelspec": {
   "display_name": "Python 3",
   "language": "python",
   "name": "python3"
  },
  "language_info": {
   "codemirror_mode": {
    "name": "ipython",
    "version": 3
   },
   "file_extension": ".py",
   "mimetype": "text/x-python",
   "name": "python",
   "nbconvert_exporter": "python",
   "pygments_lexer": "ipython3",
   "version": "3.8.2"
  },
  "orig_nbformat": 4
 },
 "nbformat": 4,
 "nbformat_minor": 2
}
